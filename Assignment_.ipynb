{
  "nbformat": 4,
  "nbformat_minor": 0,
  "metadata": {
    "colab": {
      "provenance": []
    },
    "kernelspec": {
      "name": "python3",
      "display_name": "Python 3"
    },
    "language_info": {
      "name": "python"
    }
  },
  "cells": [
    {
      "cell_type": "markdown",
      "source": [
        "#**Theroitical Questions**"
      ],
      "metadata": {
        "id": "X5cDbHX7mAAU"
      }
    },
    {
      "cell_type": "markdown",
      "source": [
        "#Q1. What is the difference between interpreted and compiled languages?\n",
        "Interpreted Languages: Code is executed line-by-line by an interpreter at runtime. Examples include Python, JavaScript, and Ruby.\n",
        "Compiled Languages: Code is translated into machine code by a compiler before execution. Examples include C, C++, and Java."
      ],
      "metadata": {
        "id": "dAhJ2IeJl58F"
      }
    },
    {
      "cell_type": "markdown",
      "source": [
        "#Q2. What is exception handling in Python?\n",
        "Exception handling in Python is a mechanism to handle runtime errors, allowing the program to continue execution or terminate gracefully. It uses try, except, else, and finally blocks."
      ],
      "metadata": {
        "id": "u86R611Tl_pD"
      }
    },
    {
      "cell_type": "markdown",
      "source": [
        "#Q3. What is the purpose of the finally block in exception handling?\n",
        "The finally block is used to execute code that must run regardless of whether an exception occurred or not. It is typically used for cleanup actions like closing files or releasing resources."
      ],
      "metadata": {
        "id": "WJeMbT3MmSIc"
      }
    },
    {
      "cell_type": "markdown",
      "source": [
        "#Q4. What is logging in Python?\n",
        "Logging in Python is a way to track events that happen when some software runs. The logging module provides a flexible framework for emitting log messages from Python programs."
      ],
      "metadata": {
        "id": "e2jxndKbmV2M"
      }
    },
    {
      "cell_type": "markdown",
      "source": [
        "#Q5. What is the significance of the __del__ method in Python?\n",
        "The __del__ method is a destructor method that is called when an object is about to be destroyed. It allows for cleanup actions before the object is deleted."
      ],
      "metadata": {
        "id": "S8a-2pfumX_s"
      }
    },
    {
      "cell_type": "markdown",
      "source": [
        "#Q6. What is the difference between import and from ... import in Python?\n",
        "import module: Imports the entire module.\n",
        "from module import name: Imports a specific attribute or function from the module."
      ],
      "metadata": {
        "id": "616AN15amd6E"
      }
    },
    {
      "cell_type": "markdown",
      "source": [
        "#Q7. How can you handle multiple exceptions in Python?\n",
        "You can handle multiple exceptions using multiple except blocks or by using a tuple of exceptions in a single except block."
      ],
      "metadata": {
        "id": "LyA1O0GEminN"
      }
    },
    {
      "cell_type": "code",
      "source": [
        "try:\n",
        "    # code that may raise an exception\n",
        "except (TypeError, ValueError) as e:\n",
        "    # handle TypeError and ValueError"
      ],
      "metadata": {
        "id": "ccLdU2rim3A2"
      },
      "execution_count": null,
      "outputs": []
    },
    {
      "cell_type": "markdown",
      "source": [
        "#Q8. What is the purpose of the with statement when handling files in Python?\n",
        "The with statement ensures that resources are properly managed. When handling files, it automatically closes the file after the block of code is executed, even if an exception occurs."
      ],
      "metadata": {
        "id": "RRNdnmD-mpME"
      }
    },
    {
      "cell_type": "markdown",
      "source": [
        "#Q9. What is the difference between multithreading and multiprocessing?\n",
        "Multithreading: Multiple threads run in the same process, sharing memory space.\n",
        "Multiprocessing: Multiple processes run independently, each with its own memory space."
      ],
      "metadata": {
        "id": "iXl3MWGxm3pM"
      }
    },
    {
      "cell_type": "markdown",
      "source": [
        "#Q10. What are the advantages of using logging in a program?\n",
        "Helps in debugging and troubleshooting.\n",
        "Provides a record of events for auditing.\n",
        "Allows monitoring of application behavior.\n",
        "Can be configured to log at different levels (e.g., DEBUG, INFO, WARNING, ERROR, CRITICAL)."
      ],
      "metadata": {
        "id": "wM3IZmPqm95l"
      }
    },
    {
      "cell_type": "markdown",
      "source": [
        "#Q11 What is memory management in Python?\n",
        "Memory management in Python involves the allocation and deallocation of memory to objects in a program. Python uses automatic memory management, including garbage collection."
      ],
      "metadata": {
        "id": "_cE4j06XoMie"
      }
    },
    {
      "cell_type": "markdown",
      "source": [
        "#Q12. What are the basic steps involved in exception handling in Python?\n",
        "Try: Wrap the code that may raise an exception.\n",
        "Except: Handle the exception if it occurs.\n",
        "Else: Execute code if no exception occurs.\n",
        "Finally: Execute code regardless of whether an exception occurred or not."
      ],
      "metadata": {
        "id": "irUSKd0CpNxX"
      }
    },
    {
      "cell_type": "markdown",
      "source": [
        "#Q13. Why is memory management important in Python?\n",
        "Memory management is crucial to ensure efficient use of memory resources, prevent memory leaks, and maintain application performance."
      ],
      "metadata": {
        "id": "yv7mC_YPpSVu"
      }
    },
    {
      "cell_type": "markdown",
      "source": [
        "#Q14. What is the role of try and except in exception handling?\n",
        "Try: Contains the code that may raise an exception.\n",
        "Except: Contains the code to handle the exception if it occurs."
      ],
      "metadata": {
        "id": "Eh-qxEVepU42"
      }
    },
    {
      "cell_type": "markdown",
      "source": [
        "#Q15. How does Python's garbage collection system work?\n",
        "Python's garbage collection system automatically deallocates memory by identifying and collecting objects that are no longer in use. It uses reference counting and cyclic garbage collection."
      ],
      "metadata": {
        "id": "B55tmAg6pXE2"
      }
    },
    {
      "cell_type": "markdown",
      "source": [
        "#Q16. What is the purpose of the else block in exception handling?\n",
        "The else block is executed if no exceptions are raised in the try block. It is used for code that should run only if the try block succeeds."
      ],
      "metadata": {
        "id": "1sDyhXCRpZ0X"
      }
    },
    {
      "cell_type": "markdown",
      "source": [
        "#Q17. What are the common logging levels in Python?\n",
        "DEBUG\n",
        "INFO\n",
        "WARNING\n",
        "ERROR\n",
        "CRITICAL"
      ],
      "metadata": {
        "id": "w4Ypx0TOpdOW"
      }
    },
    {
      "cell_type": "markdown",
      "source": [
        "#Q18. What is the difference between os.fork() and multiprocessing in Python?\n",
        "os.fork(): Creates a new process by duplicating the current process. It is available on Unix-based systems.\n",
        "Multiprocessing: A module that provides a higher-level interface for creating and managing processes, available on all platforms."
      ],
      "metadata": {
        "id": "Zl6WoVMmpfw_"
      }
    },
    {
      "cell_type": "markdown",
      "source": [
        "#Q19. What is the importance of closing a file in Python?\n",
        "Closing a file ensures that all buffered data is written to the file and releases the file resource. It prevents data corruption and resource leaks."
      ],
      "metadata": {
        "id": "US0ywCuvpjKG"
      }
    },
    {
      "cell_type": "markdown",
      "source": [
        "#Q20. What is the difference between file.read() and file.readline() in Python?\n",
        "file.read(): Reads the entire file or a specified number of bytes.\n",
        "file.readline(): Reads a single line from the file."
      ],
      "metadata": {
        "id": "uBFTf_tfpl5f"
      }
    },
    {
      "cell_type": "markdown",
      "source": [
        "#Q21. What is the logging module in Python used for?\n",
        "The logging module is used to record log messages from Python programs. It provides a flexible framework for emitting log messages to various destinations (e.g., console, files)."
      ],
      "metadata": {
        "id": "I6GMwtAvppOe"
      }
    },
    {
      "cell_type": "markdown",
      "source": [
        "#Q22. What is the os module in Python used for in file handling?\n",
        "The os module provides functions for interacting with the operating system, including file and directory manipulation (e.g., creating, deleting, and navigating directories)."
      ],
      "metadata": {
        "id": "LC7j4q-Mpqq3"
      }
    },
    {
      "cell_type": "markdown",
      "source": [
        "#Q23. What are the challenges associated with memory management in Python?\n",
        "Managing memory leaks.\n",
        "Handling cyclic references.\n",
        "Ensuring efficient memory allocation and deallocation."
      ],
      "metadata": {
        "id": "3iGugjK7ptoW"
      }
    },
    {
      "cell_type": "markdown",
      "source": [
        "#Q24. How do you raise an exception manually in Python?\n",
        "You can raise an exception manually using the raise statement.\n",
        "\n",
        "raise ValueError(\"An error occurred\")"
      ],
      "metadata": {
        "id": "oLx0ig4zpvXW"
      }
    },
    {
      "cell_type": "code",
      "source": [
        "raise ValueError(\"An error occurred\")"
      ],
      "metadata": {
        "colab": {
          "base_uri": "https://localhost:8080/",
          "height": 141
        },
        "id": "b6fOlMxHpz5_",
        "outputId": "bcd9403d-7666-42c7-ca53-efdd37d34d6a"
      },
      "execution_count": null,
      "outputs": [
        {
          "output_type": "error",
          "ename": "ValueError",
          "evalue": "An error occurred",
          "traceback": [
            "\u001b[0;31m---------------------------------------------------------------------------\u001b[0m",
            "\u001b[0;31mValueError\u001b[0m                                Traceback (most recent call last)",
            "\u001b[0;32m<ipython-input-2-450966631091>\u001b[0m in \u001b[0;36m<cell line: 0>\u001b[0;34m()\u001b[0m\n\u001b[0;32m----> 1\u001b[0;31m \u001b[0;32mraise\u001b[0m \u001b[0mValueError\u001b[0m\u001b[0;34m(\u001b[0m\u001b[0;34m\"An error occurred\"\u001b[0m\u001b[0;34m)\u001b[0m\u001b[0;34m\u001b[0m\u001b[0;34m\u001b[0m\u001b[0m\n\u001b[0m",
            "\u001b[0;31mValueError\u001b[0m: An error occurred"
          ]
        }
      ]
    },
    {
      "cell_type": "markdown",
      "source": [
        "#Q25. Why is it important to use multithreading in certain applications?\n",
        "Multithreading is important for improving the performance of applications that perform multiple tasks concurrently, especially when tasks involve I/O operations or can be parallelized."
      ],
      "metadata": {
        "id": "C8sGdgu3p4E2"
      }
    },
    {
      "cell_type": "markdown",
      "source": [
        "#**Pratical Questions**"
      ],
      "metadata": {
        "id": "bpsrMfz7qtGf"
      }
    },
    {
      "cell_type": "markdown",
      "source": [
        "#Q1 How can you open a file for writing in Python and write a string to it\n"
      ],
      "metadata": {
        "id": "RLcaPI3Mq0LH"
      }
    },
    {
      "cell_type": "code",
      "source": [
        "#To open a file for writing in Python, we use the open() function with the mode 'w'. This mode will create a new file if it doesn't exist or truncate the file if it does exist. we can then use the write() method to write a string to the file.\n",
        "\n",
        "with open('example.txt', 'w') as file:\n",
        "    file.write(\"Hello, World!\")"
      ],
      "metadata": {
        "id": "KlNc6jWCrOQn"
      },
      "execution_count": null,
      "outputs": []
    },
    {
      "cell_type": "markdown",
      "source": [
        "#Q2 Write a Python program to read the contents of a file and print each line.\n"
      ],
      "metadata": {
        "id": "jVfzZMYZrdh4"
      }
    },
    {
      "cell_type": "code",
      "source": [
        "with open(\"example.txt\", \"r\") as file:\n",
        "    for line in file:\n",
        "        print(line.strip())\n"
      ],
      "metadata": {
        "colab": {
          "base_uri": "https://localhost:8080/"
        },
        "id": "Ajrw8JJruID4",
        "outputId": "5b73e8f6-b37a-4e45-c3d3-79bea7f78003"
      },
      "execution_count": null,
      "outputs": [
        {
          "output_type": "stream",
          "name": "stdout",
          "text": [
            "Hello, World!\n"
          ]
        }
      ]
    },
    {
      "cell_type": "markdown",
      "source": [
        "#Q3 How would you handle a case where the file doesn't exist while trying to open it for reading?\n"
      ],
      "metadata": {
        "id": "wXpAM3M-uOdP"
      }
    },
    {
      "cell_type": "code",
      "source": [
        "try:\n",
        "    with open(\"non_existent_file.txt\", \"r\") as file:\n",
        "        print(file.read())\n",
        "except FileNotFoundError:\n",
        "    print(\"File not found!\")\n"
      ],
      "metadata": {
        "colab": {
          "base_uri": "https://localhost:8080/"
        },
        "id": "JTqQSSYLuU5Y",
        "outputId": "89c5c1b3-480e-4190-c0d3-7496ed4c3545"
      },
      "execution_count": null,
      "outputs": [
        {
          "output_type": "stream",
          "name": "stdout",
          "text": [
            "File not found!\n"
          ]
        }
      ]
    },
    {
      "cell_type": "markdown",
      "source": [
        "#Q4 Write a Python script that reads from one file and writes its content to another file.\n"
      ],
      "metadata": {
        "id": "AephIosruWI_"
      }
    },
    {
      "cell_type": "code",
      "source": [
        "with open(\"example.txt\", \"r\") as source, open(\"destination.txt\", \"w\") as destination:\n",
        "    destination.write(source.read())\n",
        "    print(\"exceution completed\")"
      ],
      "metadata": {
        "colab": {
          "base_uri": "https://localhost:8080/"
        },
        "id": "sii-M6L3uY1A",
        "outputId": "06e5e7c2-5cda-4d1c-987d-97ed97a6468d"
      },
      "execution_count": null,
      "outputs": [
        {
          "output_type": "stream",
          "name": "stdout",
          "text": [
            "exceution completed\n"
          ]
        }
      ]
    },
    {
      "cell_type": "markdown",
      "source": [
        "#Q5 How would you catch and handle division by zero error in Python?"
      ],
      "metadata": {
        "id": "fzvjnb0zuofn"
      }
    },
    {
      "cell_type": "code",
      "source": [
        "try:\n",
        "    result = 10 / 0\n",
        "except ZeroDivisionError:\n",
        "    print(\"Cannot divide by zero!\")\n"
      ],
      "metadata": {
        "colab": {
          "base_uri": "https://localhost:8080/"
        },
        "id": "rE2sfBfPu8ZI",
        "outputId": "c6acc41d-9bf5-423f-fcd8-32b723c4b269"
      },
      "execution_count": null,
      "outputs": [
        {
          "output_type": "stream",
          "name": "stdout",
          "text": [
            "Cannot divide by zero!\n"
          ]
        }
      ]
    },
    {
      "cell_type": "markdown",
      "source": [
        "#Q6 Write a Python program that logs an error message to a log file when a division by zero exception occurs."
      ],
      "metadata": {
        "id": "BybaW78lu92g"
      }
    },
    {
      "cell_type": "code",
      "source": [
        "import logging\n",
        "\n",
        "logging.basicConfig(filename=\"error.log\", level=logging.ERROR)\n",
        "try:\n",
        "    result = 10 / 0\n",
        "except ZeroDivisionError:\n",
        "    logging.error(\"Attempted to divide by zero!\")"
      ],
      "metadata": {
        "colab": {
          "base_uri": "https://localhost:8080/"
        },
        "id": "mDamoTOgvEYA",
        "outputId": "47ca39db-5a8a-48ef-825e-47ad1b37dd1e"
      },
      "execution_count": null,
      "outputs": [
        {
          "output_type": "stream",
          "name": "stderr",
          "text": [
            "ERROR:root:Attempted to divide by zero!\n"
          ]
        }
      ]
    },
    {
      "cell_type": "markdown",
      "source": [
        "#Q7 How do you log information at different levels (INFO, ERROR, WARNING) in Python using the logging module?"
      ],
      "metadata": {
        "id": "iavAI0VBvH2I"
      }
    },
    {
      "cell_type": "code",
      "source": [
        "import logging\n",
        "\n",
        "logging.basicConfig(filename=\"app.log\", level=logging.INFO)\n",
        "logging.info(\"This is an info message\")\n",
        "logging.warning(\"This is a warning message\")\n",
        "logging.error(\"This is an error message\")\n"
      ],
      "metadata": {
        "colab": {
          "base_uri": "https://localhost:8080/"
        },
        "id": "3wAxc3hgvEqI",
        "outputId": "1188c172-40ae-4b77-99e5-7b40bb181a85"
      },
      "execution_count": null,
      "outputs": [
        {
          "output_type": "stream",
          "name": "stderr",
          "text": [
            "WARNING:root:This is a warning message\n",
            "ERROR:root:This is an error message\n"
          ]
        }
      ]
    },
    {
      "cell_type": "markdown",
      "source": [
        "#Q8 Write a program to handle a file opening error using exception handling."
      ],
      "metadata": {
        "id": "ugWiwE6MwXTw"
      }
    },
    {
      "cell_type": "code",
      "source": [
        "try:\n",
        "    with open(\"missing_file.txt\", \"r\") as file:\n",
        "        print(file.read())\n",
        "except FileNotFoundError:\n",
        "    print(\"File not found error!\")\n"
      ],
      "metadata": {
        "colab": {
          "base_uri": "https://localhost:8080/"
        },
        "id": "wuNyKVMGwfMw",
        "outputId": "40e19253-5146-410b-b508-1481f44b419a"
      },
      "execution_count": null,
      "outputs": [
        {
          "output_type": "stream",
          "name": "stdout",
          "text": [
            "File not found error!\n"
          ]
        }
      ]
    },
    {
      "cell_type": "markdown",
      "source": [
        "#Q9 How can you read a file line by line and store its content in a list in Python?"
      ],
      "metadata": {
        "id": "PYGTnCzFwpFQ"
      }
    },
    {
      "cell_type": "code",
      "source": [
        "with open(\"example.txt\", \"r\") as file:\n",
        "    lines = [line.strip() for line in file]\n",
        "    print(lines)"
      ],
      "metadata": {
        "colab": {
          "base_uri": "https://localhost:8080/"
        },
        "id": "eLRAlNmuwjzI",
        "outputId": "a4ee0b25-3713-44b3-f494-772040869449"
      },
      "execution_count": null,
      "outputs": [
        {
          "output_type": "stream",
          "name": "stdout",
          "text": [
            "['Hello, World!']\n"
          ]
        }
      ]
    },
    {
      "cell_type": "markdown",
      "source": [
        "#Q10 How can you append data to an existing file in Python?"
      ],
      "metadata": {
        "id": "yLcKpmh5wyMw"
      }
    },
    {
      "cell_type": "code",
      "source": [
        "with open(\"example.txt\", \"a\") as file:\n",
        "    file.write(\"\\nAppending new content!\")\n"
      ],
      "metadata": {
        "id": "_p83P2rmw2fH"
      },
      "execution_count": null,
      "outputs": []
    },
    {
      "cell_type": "markdown",
      "source": [
        "#Q11 Write a Python program that uses a try-except block to handle an error when attempting to access a dictionary key that doesn't exist."
      ],
      "metadata": {
        "id": "Bb1zD6Eww6p4"
      }
    },
    {
      "cell_type": "code",
      "source": [
        "my_dict = {\"name\": \"Alice\"}\n",
        "try:\n",
        "    print(my_dict[\"age\"])\n",
        "except KeyError:\n",
        "    print(\"Key not found!\")\n"
      ],
      "metadata": {
        "colab": {
          "base_uri": "https://localhost:8080/"
        },
        "id": "m1Su0kXYw_jX",
        "outputId": "c5eb6a7e-cb69-47c7-c50e-43346e2ba2ec"
      },
      "execution_count": null,
      "outputs": [
        {
          "output_type": "stream",
          "name": "stdout",
          "text": [
            "Key not found!\n"
          ]
        }
      ]
    },
    {
      "cell_type": "markdown",
      "source": [
        "#Q12 Write a program that demonstrates using multiple except blocks to handle different types of exceptions."
      ],
      "metadata": {
        "id": "TGNYHaFsxC14"
      }
    },
    {
      "cell_type": "code",
      "source": [
        "try:\n",
        "    num = int(\"abc\")  # ValueError\n",
        "    result = 10 / 0  # ZeroDivisionError\n",
        "except ValueError:\n",
        "    print(\"Invalid input!\")\n",
        "except ZeroDivisionError:\n",
        "    print(\"Cannot divide by zero!\")\n"
      ],
      "metadata": {
        "colab": {
          "base_uri": "https://localhost:8080/"
        },
        "id": "vAxi9vSOxH8w",
        "outputId": "cbe54e06-b7d0-4327-b11f-413091d26d9d"
      },
      "execution_count": null,
      "outputs": [
        {
          "output_type": "stream",
          "name": "stdout",
          "text": [
            "Invalid input!\n"
          ]
        }
      ]
    },
    {
      "cell_type": "markdown",
      "source": [
        "#Q13 How would you check if a file exists before attempting to read it in Python?"
      ],
      "metadata": {
        "id": "xkf036byxLkI"
      }
    },
    {
      "cell_type": "code",
      "source": [
        "import os\n",
        "\n",
        "if os.path.exists(\"example.txt\"):\n",
        "    with open(\"example.txt\", \"r\") as file:\n",
        "        print(file.read())\n",
        "else:\n",
        "    print(\"File does not exist!\")\n"
      ],
      "metadata": {
        "colab": {
          "base_uri": "https://localhost:8080/"
        },
        "id": "ZtzqwFomxO4Q",
        "outputId": "5239b66a-4f11-421b-f84d-70ec26aca490"
      },
      "execution_count": null,
      "outputs": [
        {
          "output_type": "stream",
          "name": "stdout",
          "text": [
            "Hello, World!\n",
            "Appending new content!\n"
          ]
        }
      ]
    },
    {
      "cell_type": "markdown",
      "source": [
        "#Q14 Write a program that uses the logging module to log both informational and error messages."
      ],
      "metadata": {
        "id": "WJGvqpnxxIxA"
      }
    },
    {
      "cell_type": "code",
      "source": [
        "import logging\n",
        "\n",
        "logging.basicConfig(filename=\"app.log\", level=logging.INFO)\n",
        "logging.info(\"This is an informational message.\")\n",
        "try:\n",
        "    x = 1 / 0\n",
        "except ZeroDivisionError:\n",
        "    logging.error(\"Division by zero error occurred!\")\n"
      ],
      "metadata": {
        "colab": {
          "base_uri": "https://localhost:8080/"
        },
        "id": "l-xLb2KNxUyo",
        "outputId": "7a4fee4b-8884-469c-f4b4-e4292cdd6764"
      },
      "execution_count": null,
      "outputs": [
        {
          "output_type": "stream",
          "name": "stderr",
          "text": [
            "ERROR:root:Division by zero error occurred!\n"
          ]
        }
      ]
    },
    {
      "cell_type": "markdown",
      "source": [
        "#Q15 Write a Python program that prints the content of a file and handles the case when the file is empty."
      ],
      "metadata": {
        "id": "4ALITUKVxIh_"
      }
    },
    {
      "cell_type": "code",
      "source": [
        "with open(\"example.txt\", \"r\") as file:\n",
        "    content = file.read()\n",
        "    if content:\n",
        "        print(content)\n",
        "    else:\n",
        "        print(\"The file is empty!\")\n"
      ],
      "metadata": {
        "colab": {
          "base_uri": "https://localhost:8080/"
        },
        "id": "yvelnnWdxIAq",
        "outputId": "d63c76f2-09b4-4e1b-d598-9acfb053c32b"
      },
      "execution_count": null,
      "outputs": [
        {
          "output_type": "stream",
          "name": "stdout",
          "text": [
            "Hello, World!\n",
            "Appending new content!\n"
          ]
        }
      ]
    },
    {
      "cell_type": "markdown",
      "source": [
        "#Q16 Demonstrate how to use memory profiling to check the memory usage of a small program."
      ],
      "metadata": {
        "id": "qNtPvfs7xIEv"
      }
    },
    {
      "cell_type": "code",
      "source": [
        "from memory_profiler import profile\n",
        "\n",
        "@profile\n",
        "def memory_usage():\n",
        "    lst = [i for i in range(100000)]\n",
        "    return lst\n",
        "\n",
        "memory_usage()\n"
      ],
      "metadata": {
        "colab": {
          "base_uri": "https://localhost:8080/",
          "height": 401
        },
        "id": "VIywCPCxxhqY",
        "outputId": "c171f267-47cc-4839-bc80-7ffa72fec2f2"
      },
      "execution_count": null,
      "outputs": [
        {
          "output_type": "stream",
          "name": "stdout",
          "text": [
            "ERROR: unknown command \"memory_profiler\"\n"
          ]
        },
        {
          "output_type": "error",
          "ename": "ModuleNotFoundError",
          "evalue": "No module named 'memory_profiler'",
          "traceback": [
            "\u001b[0;31m---------------------------------------------------------------------------\u001b[0m",
            "\u001b[0;31mModuleNotFoundError\u001b[0m                       Traceback (most recent call last)",
            "\u001b[0;32m<ipython-input-23-79962fc33adb>\u001b[0m in \u001b[0;36m<cell line: 0>\u001b[0;34m()\u001b[0m\n\u001b[1;32m      1\u001b[0m \u001b[0mget_ipython\u001b[0m\u001b[0;34m(\u001b[0m\u001b[0;34m)\u001b[0m\u001b[0;34m.\u001b[0m\u001b[0msystem\u001b[0m\u001b[0;34m(\u001b[0m\u001b[0;34m'pip memory_profiler'\u001b[0m\u001b[0;34m)\u001b[0m\u001b[0;34m\u001b[0m\u001b[0;34m\u001b[0m\u001b[0m\n\u001b[0;32m----> 2\u001b[0;31m \u001b[0;32mfrom\u001b[0m \u001b[0mmemory_profiler\u001b[0m \u001b[0;32mimport\u001b[0m \u001b[0mprofile\u001b[0m\u001b[0;34m\u001b[0m\u001b[0;34m\u001b[0m\u001b[0m\n\u001b[0m\u001b[1;32m      3\u001b[0m \u001b[0;34m\u001b[0m\u001b[0m\n\u001b[1;32m      4\u001b[0m \u001b[0;34m@\u001b[0m\u001b[0mprofile\u001b[0m\u001b[0;34m\u001b[0m\u001b[0;34m\u001b[0m\u001b[0m\n\u001b[1;32m      5\u001b[0m \u001b[0;32mdef\u001b[0m \u001b[0mmemory_usage\u001b[0m\u001b[0;34m(\u001b[0m\u001b[0;34m)\u001b[0m\u001b[0;34m:\u001b[0m\u001b[0;34m\u001b[0m\u001b[0;34m\u001b[0m\u001b[0m\n",
            "\u001b[0;31mModuleNotFoundError\u001b[0m: No module named 'memory_profiler'",
            "",
            "\u001b[0;31m---------------------------------------------------------------------------\u001b[0;32m\nNOTE: If your import is failing due to a missing package, you can\nmanually install dependencies using either !pip or !apt.\n\nTo view examples of installing some common dependencies, click the\n\"Open Examples\" button below.\n\u001b[0;31m---------------------------------------------------------------------------\u001b[0m\n"
          ],
          "errorDetails": {
            "actions": [
              {
                "action": "open_url",
                "actionText": "Open Examples",
                "url": "/notebooks/snippets/importing_libraries.ipynb"
              }
            ]
          }
        }
      ]
    },
    {
      "cell_type": "markdown",
      "source": [
        "#Q17 Write a Python program to create and write a list of numbers to a file, one number per line."
      ],
      "metadata": {
        "id": "aFxiuUIqxi4A"
      }
    },
    {
      "cell_type": "code",
      "source": [
        "numbers = [1, 2, 3, 4, 5]\n",
        "with open(\"numbers.txt\", \"w\") as file:\n",
        "    for number in numbers:\n",
        "        file.write(f\"{number}\\n\")\n"
      ],
      "metadata": {
        "id": "wDsutNKIxnHQ"
      },
      "execution_count": null,
      "outputs": []
    },
    {
      "cell_type": "markdown",
      "source": [
        "#Q18 Write a Python program to create and write a list of numbers to a file, one number per line."
      ],
      "metadata": {
        "id": "BKTOOJQlyLWf"
      }
    },
    {
      "cell_type": "code",
      "source": [
        "import logging\n",
        "from logging.handlers import RotatingFileHandler\n",
        "\n",
        "logger = logging.getLogger(\"RotatingLogger\")\n",
        "handler = RotatingFileHandler(\"rotating.log\", maxBytes=1_000_000, backupCount=5)\n",
        "logger.addHandler(handler)\n",
        "logger.setLevel(logging.INFO)\n",
        "logger.info(\"This is a log message.\")\n"
      ],
      "metadata": {
        "colab": {
          "base_uri": "https://localhost:8080/"
        },
        "id": "s2QnTTp9yQJX",
        "outputId": "f172cd86-bda0-4084-cd5d-27a210625148"
      },
      "execution_count": null,
      "outputs": [
        {
          "output_type": "stream",
          "name": "stderr",
          "text": [
            "INFO:RotatingLogger:This is a log message.\n"
          ]
        }
      ]
    },
    {
      "cell_type": "markdown",
      "source": [
        "#Q19 Write a program that handles both IndexError and KeyError using a try-except block."
      ],
      "metadata": {
        "id": "TC6uXUm0yUlg"
      }
    },
    {
      "cell_type": "code",
      "source": [
        "try:\n",
        "    my_list = [1, 2, 3]\n",
        "    print(my_list[5])  # IndexError\n",
        "    my_dict = {\"a\": 1}\n",
        "    print(my_dict[\"b\"])  # KeyError\n",
        "except IndexError:\n",
        "    print(\"Index out of range!\")\n",
        "except KeyError:\n",
        "    print(\"Key not found in dictionary!\")\n"
      ],
      "metadata": {
        "colab": {
          "base_uri": "https://localhost:8080/"
        },
        "id": "jDBieNQXyWun",
        "outputId": "d847f7ff-c3f2-4a54-8436-0ef0077539f5"
      },
      "execution_count": null,
      "outputs": [
        {
          "output_type": "stream",
          "name": "stdout",
          "text": [
            "Index out of range!\n"
          ]
        }
      ]
    },
    {
      "cell_type": "markdown",
      "source": [
        "#Q20 How would you open a file and read its contents using a context manager in Python?"
      ],
      "metadata": {
        "id": "yPYmWPyrycg3"
      }
    },
    {
      "cell_type": "code",
      "source": [
        "with open(\"example.txt\", \"r\") as file:\n",
        "    content = file.read()\n",
        "    print(content)\n"
      ],
      "metadata": {
        "colab": {
          "base_uri": "https://localhost:8080/"
        },
        "id": "aPKip5MXyeeA",
        "outputId": "7ac3aa7b-16c8-4d02-dd65-8d2190e12dd7"
      },
      "execution_count": null,
      "outputs": [
        {
          "output_type": "stream",
          "name": "stdout",
          "text": [
            "Hello, World!\n",
            "Appending new content!\n"
          ]
        }
      ]
    },
    {
      "cell_type": "markdown",
      "source": [
        "#Q21 Write a Python program that reads a file and prints the number of occurrences of a specific word."
      ],
      "metadata": {
        "id": "AbwecDsVylQX"
      }
    },
    {
      "cell_type": "code",
      "source": [
        "word_to_count = \"Python\"\n",
        "with open(\"example.txt\", \"r\") as file:\n",
        "    content = file.read()\n",
        "    print(f\"The word '{word_to_count}' appears {content.count(word_to_count)} times.\")\n"
      ],
      "metadata": {
        "colab": {
          "base_uri": "https://localhost:8080/"
        },
        "id": "caXbtvcMynqX",
        "outputId": "e11f6221-a590-4bff-9013-49e27ea7000b"
      },
      "execution_count": null,
      "outputs": [
        {
          "output_type": "stream",
          "name": "stdout",
          "text": [
            "The word 'Python' appears 0 times.\n"
          ]
        }
      ]
    },
    {
      "cell_type": "markdown",
      "source": [
        "#Q22 How can you check if a file is empty before attempting to read its contents?"
      ],
      "metadata": {
        "id": "k7O2JCXWyr9P"
      }
    },
    {
      "cell_type": "code",
      "source": [
        "import os\n",
        "\n",
        "if os.path.exists(\"example.txt\") and os.stat(\"example.txt\").st_size > 0:\n",
        "    with open(\"example.txt\", \"r\") as file:\n",
        "        print(file.read())\n",
        "else:\n",
        "    print(\"File is empty or does not exist!\")\n"
      ],
      "metadata": {
        "colab": {
          "base_uri": "https://localhost:8080/"
        },
        "id": "_WON393dyrbP",
        "outputId": "036130a8-2b2b-43f6-913e-22e183e72d86"
      },
      "execution_count": null,
      "outputs": [
        {
          "output_type": "stream",
          "name": "stdout",
          "text": [
            "Hello, World!\n",
            "Appending new content!\n"
          ]
        }
      ]
    },
    {
      "cell_type": "markdown",
      "source": [
        "#Q23 Write a Python program that writes to a log file when an error occurs during file handling."
      ],
      "metadata": {
        "id": "VgAWyWImyxAI"
      }
    },
    {
      "cell_type": "code",
      "source": [
        "import logging\n",
        "\n",
        "logging.basicConfig(filename=\"file_errors.log\", level=logging.ERROR)\n",
        "try:\n",
        "    with open(\"missing.txt\", \"r\") as file:\n",
        "        print(file.read())\n",
        "except FileNotFoundError:\n",
        "    logging.error(\"File not found error occurred!\")\n"
      ],
      "metadata": {
        "colab": {
          "base_uri": "https://localhost:8080/"
        },
        "id": "NGlf26LkyzIY",
        "outputId": "eb449cd9-7813-4cc1-ab3f-d097fb2c7ab2"
      },
      "execution_count": null,
      "outputs": [
        {
          "output_type": "stream",
          "name": "stderr",
          "text": [
            "ERROR:root:File not found error occurred!\n"
          ]
        }
      ]
    }
  ]
}